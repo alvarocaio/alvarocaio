{
  "nbformat": 4,
  "nbformat_minor": 0,
  "metadata": {
    "colab": {
      "provenance": [],
      "authorship_tag": "ABX9TyOrl46uxUgQjJkFVCwddtB3",
      "include_colab_link": true
    },
    "kernelspec": {
      "name": "python3",
      "display_name": "Python 3"
    }
  },
  "cells": [
    {
      "cell_type": "markdown",
      "metadata": {
        "id": "view-in-github",
        "colab_type": "text"
      },
      "source": [
        "<a href=\"https://colab.research.google.com/github/alvarocaio/alvarocaio/blob/main/Contra%C3%A7%C3%A3o_Muscular.ipynb\" target=\"_parent\"><img src=\"https://colab.research.google.com/assets/colab-badge.svg\" alt=\"Open In Colab\"/></a>"
      ]
    },
    {
      "cell_type": "markdown",
      "metadata": {
        "id": "RGnJ3KBf_gkN"
      },
      "source": [
        "##Resumo \n",
        "As células musculares do nosso corpo são capazes de gerar impulsos eletroquímicos que se modificam com grande rapidez. Esses impulsos, gerados por uma diferença de potencial entre a membrana interna e externa das células, são o que causam a contração muscular. A contração muscular nada mais é do que a entrada e saída de íons, fazendo com que a célula fica mais ou menos positiva. Essa entrada e saída de íons varia de acordo com o tipo muscular que está sendo analisado.\n",
        "<img src=\"http://www.angomed.com/wp-content/uploads/2015/05/canais-ionicos.jpg\">"
      ]
    },
    {
      "cell_type": "markdown",
      "metadata": {
        "id": "l1b-4QFvEEWa"
      },
      "source": [
        "## Como ocorre a entrada e saída dos ions\n",
        "Basicamente, nosso corpo tem dois meios de fazer as trocas entre os meios intracelular e extracelular, que são os meios que tem gasto de energia e o que não tem esse gasto. Os meios onde se tem gasto de energia são conhecidos como \"*Bombas*\", essas *bombas* tem receptores que fazem a conversão de moléculas de Trifosfato de adenosina para energia necessária para abrir os respectivos canais onde vai ocorrer a entrada ou saída de substâncias. O meio onde não tem gasto de ATP(Trifosfato de adenosina), ou seja, onde não tem gasto de energia,substâncias podem entram através de três possíveis caminhos, sendo eles a Difusão simples, onde elas passam atraves da membrana celular sem nenhum impecílio, a Difusâo facilitada, que utiliza proteínas para mediar a passagem de substâncias, e a Osmose, essa que utiliza o solvende como ator principal, ou seja, na Osmose quem se movimenta é o solvente e não o soluto, sendo assim, nesse caminho ocorre a transferência de líquido e não de substâncias como nas difusões.     \n"
      ]
    },
    {
      "cell_type": "markdown",
      "metadata": {
        "id": "veU-bUW6G1u_"
      },
      "source": [
        "## Como a entrada e saída de íons fazem a contração muscular\n",
        "O nosso corpo busca sempre manter a homeostase, ou seja, o equilíbrio. E em relação aos íons, esse equlíbrio não quer dizer que a quantida que tem dentro da célula é a mesma que tem fora dela, quer dizer que a quantidade de íons deve ser suficiente para que a homeostase se mantanha constante de forma que as células possam exercer suas funções da melhor forma possível, desse modo, a quantidade ideal de íons dentro ou fora da célula varia de acordo com a célula que estamos analisando e de acordo com o íon analisado. \n"
      ]
    },
    {
      "cell_type": "code",
      "metadata": {
        "id": "KeYNSXk1NMWL",
        "outputId": "99e40b18-daf0-418d-a9ef-858f49fa470c",
        "colab": {
          "base_uri": "https://localhost:8080/",
          "height": 34
        }
      },
      "source": [
        "import pandas as pd\n",
        "import matplotlib.pyplot as plt\n",
        "import seaborn as sns\n",
        "íons= pd.read_excel(\"/content/íons .xlsx\")\n",
        "print(íons.shape)"
      ],
      "execution_count": null,
      "outputs": [
        {
          "output_type": "stream",
          "text": [
            "(8, 6)\n"
          ],
          "name": "stdout"
        }
      ]
    },
    {
      "cell_type": "code",
      "metadata": {
        "id": "prVSCBAfPpBQ"
      },
      "source": [
        "íons.head(8)"
      ],
      "execution_count": null,
      "outputs": []
    },
    {
      "cell_type": "code",
      "metadata": {
        "id": "y7dJkFz8PxTr"
      },
      "source": [
        "subst = íons[\"Substâncias\"]\n",
        "íons.index = subst\n",
        "íons.drop(\"Substâncias\", inplace=True, axis=1)"
      ],
      "execution_count": null,
      "outputs": []
    },
    {
      "cell_type": "code",
      "metadata": {
        "id": "WoNxOqzfP4YC",
        "outputId": "c089b20a-9e33-426c-9294-3434602d7b15",
        "colab": {
          "base_uri": "https://localhost:8080/",
          "height": 362
        }
      },
      "source": [
        "íons.head(8)"
      ],
      "execution_count": null,
      "outputs": [
        {
          "output_type": "execute_result",
          "data": {
            "text/html": [
              "<div>\n",
              "<style scoped>\n",
              "    .dataframe tbody tr th:only-of-type {\n",
              "        vertical-align: middle;\n",
              "    }\n",
              "\n",
              "    .dataframe tbody tr th {\n",
              "        vertical-align: top;\n",
              "    }\n",
              "\n",
              "    .dataframe thead th {\n",
              "        text-align: right;\n",
              "    }\n",
              "</style>\n",
              "<table border=\"1\" class=\"dataframe\">\n",
              "  <thead>\n",
              "    <tr style=\"text-align: right;\">\n",
              "      <th></th>\n",
              "      <th>Valor Normal</th>\n",
              "      <th>Faixa Normal</th>\n",
              "      <th>Limite Aproximado não Letál Mínimo em Curto Prazo</th>\n",
              "      <th>Limite Aproximado não Letál Máximo em Curto Prazo</th>\n",
              "      <th>Unidade</th>\n",
              "    </tr>\n",
              "    <tr>\n",
              "      <th>Substâncias</th>\n",
              "      <th></th>\n",
              "      <th></th>\n",
              "      <th></th>\n",
              "      <th></th>\n",
              "      <th></th>\n",
              "    </tr>\n",
              "  </thead>\n",
              "  <tbody>\n",
              "    <tr>\n",
              "      <th>Oxigênio(Venoso)</th>\n",
              "      <td>40.0</td>\n",
              "      <td>35-45</td>\n",
              "      <td>10.0</td>\n",
              "      <td>1000.0</td>\n",
              "      <td>mmHg</td>\n",
              "    </tr>\n",
              "    <tr>\n",
              "      <th>Dióxido de Carbono(Venoso)</th>\n",
              "      <td>45.0</td>\n",
              "      <td>35-45</td>\n",
              "      <td>5.0</td>\n",
              "      <td>80.0</td>\n",
              "      <td>mmHg</td>\n",
              "    </tr>\n",
              "    <tr>\n",
              "      <th>Íon Sódio</th>\n",
              "      <td>142.0</td>\n",
              "      <td>138-146</td>\n",
              "      <td>115.0</td>\n",
              "      <td>175.0</td>\n",
              "      <td>mmol/L</td>\n",
              "    </tr>\n",
              "    <tr>\n",
              "      <th>Íon Potássio</th>\n",
              "      <td>4.2</td>\n",
              "      <td>3.8-5</td>\n",
              "      <td>1.5</td>\n",
              "      <td>9.0</td>\n",
              "      <td>mmol/L</td>\n",
              "    </tr>\n",
              "    <tr>\n",
              "      <th>Íon Cálcio</th>\n",
              "      <td>1.2</td>\n",
              "      <td>1-1.4</td>\n",
              "      <td>0.5</td>\n",
              "      <td>2.0</td>\n",
              "      <td>mmol/L</td>\n",
              "    </tr>\n",
              "    <tr>\n",
              "      <th>Íon Cloreto</th>\n",
              "      <td>106.0</td>\n",
              "      <td>103-112</td>\n",
              "      <td>70.0</td>\n",
              "      <td>130.0</td>\n",
              "      <td>mmol/L</td>\n",
              "    </tr>\n",
              "    <tr>\n",
              "      <th>Íon Bicarbonato</th>\n",
              "      <td>24.0</td>\n",
              "      <td>24-32</td>\n",
              "      <td>8.0</td>\n",
              "      <td>45.0</td>\n",
              "      <td>mmol/L</td>\n",
              "    </tr>\n",
              "    <tr>\n",
              "      <th>Glicose</th>\n",
              "      <td>90.0</td>\n",
              "      <td>75-95</td>\n",
              "      <td>20.0</td>\n",
              "      <td>1500.0</td>\n",
              "      <td>mg/dl</td>\n",
              "    </tr>\n",
              "  </tbody>\n",
              "</table>\n",
              "</div>"
            ],
            "text/plain": [
              "                            Valor Normal  ... Unidade\n",
              "Substâncias                               ...        \n",
              "Oxigênio(Venoso)                    40.0  ...    mmHg\n",
              "Dióxido de Carbono(Venoso)          45.0  ...    mmHg\n",
              "Íon Sódio                          142.0  ...  mmol/L\n",
              "Íon Potássio                         4.2  ...  mmol/L\n",
              "Íon Cálcio                           1.2  ...  mmol/L\n",
              "Íon Cloreto                        106.0  ...  mmol/L\n",
              "Íon Bicarbonato                     24.0  ...  mmol/L\n",
              "Glicose                             90.0  ...   mg/dl\n",
              "\n",
              "[8 rows x 5 columns]"
            ]
          },
          "metadata": {
            "tags": []
          },
          "execution_count": 8
        }
      ]
    },
    {
      "cell_type": "code",
      "metadata": {
        "id": "jy6Xd784QOvL",
        "outputId": "2acf2437-c330-4163-e3bf-a2bbab395cec",
        "colab": {
          "base_uri": "https://localhost:8080/",
          "height": 187
        }
      },
      "source": [
        "# Relação das substâncias com seu valor normal\n",
        "valornormal = íons[\"Valor Normal\"]\n",
        "valornormal.head(8)"
      ],
      "execution_count": null,
      "outputs": [
        {
          "output_type": "execute_result",
          "data": {
            "text/plain": [
              "Substâncias\n",
              "Oxigênio(Venoso)               40.0\n",
              "Dióxido de Carbono(Venoso)     45.0\n",
              "Íon Sódio                     142.0\n",
              "Íon Potássio                    4.2\n",
              "Íon Cálcio                      1.2\n",
              "Íon Cloreto                   106.0\n",
              "Íon Bicarbonato                24.0\n",
              "Glicose                        90.0\n",
              "Name: Valor Normal, dtype: float64"
            ]
          },
          "metadata": {
            "tags": []
          },
          "execution_count": 9
        }
      ]
    },
    {
      "cell_type": "code",
      "metadata": {
        "id": "91bFo49GQdVE",
        "outputId": "835035ca-1a95-40af-c8b4-026ddf2b9dd1",
        "colab": {
          "base_uri": "https://localhost:8080/",
          "height": 170
        }
      },
      "source": [
        "# análise matemática: média, mediana, desvio padrão  \n",
        "valornormal.describe()"
      ],
      "execution_count": null,
      "outputs": [
        {
          "output_type": "execute_result",
          "data": {
            "text/plain": [
              "count      8.00000\n",
              "mean      56.55000\n",
              "std       50.90167\n",
              "min        1.20000\n",
              "25%       19.05000\n",
              "50%       42.50000\n",
              "75%       94.00000\n",
              "max      142.00000\n",
              "Name: Valor Normal, dtype: float64"
            ]
          },
          "metadata": {
            "tags": []
          },
          "execution_count": 10
        }
      ]
    },
    {
      "cell_type": "code",
      "metadata": {
        "id": "wMdEhcQXQmRD",
        "outputId": "882a83e3-5806-4b7e-fddb-cba3d4219885",
        "colab": {
          "base_uri": "https://localhost:8080/",
          "height": 187
        }
      },
      "source": [
        "# Relação das substâncias com sua faixa normal\n",
        "faixanormal = íons[\"Faixa Normal\"]\n",
        "faixanormal.head(8)"
      ],
      "execution_count": null,
      "outputs": [
        {
          "output_type": "execute_result",
          "data": {
            "text/plain": [
              "Substâncias\n",
              "Oxigênio(Venoso)                35-45\n",
              "Dióxido de Carbono(Venoso)      35-45\n",
              "Íon Sódio                     138-146\n",
              "Íon Potássio                    3.8-5\n",
              "Íon Cálcio                      1-1.4\n",
              "Íon Cloreto                   103-112\n",
              "Íon Bicarbonato                 24-32\n",
              "Glicose                         75-95\n",
              "Name: Faixa Normal, dtype: object"
            ]
          },
          "metadata": {
            "tags": []
          },
          "execution_count": 108
        }
      ]
    },
    {
      "cell_type": "code",
      "metadata": {
        "id": "70EOo-ylQu7b",
        "outputId": "5dba27cc-8817-4469-aec4-94accd4107b1",
        "colab": {
          "base_uri": "https://localhost:8080/",
          "height": 187
        }
      },
      "source": [
        "# Relação das substâncias com seu valor de limite Aproximado não Letál Mínimo em Curto Prazo\n",
        "lamin = íons[\"Limite Aproximado não Letál Mínimo em Curto Prazo\"]\n",
        "lamin.head(8)"
      ],
      "execution_count": null,
      "outputs": [
        {
          "output_type": "execute_result",
          "data": {
            "text/plain": [
              "Substâncias\n",
              "Oxigênio(Venoso)               10.0\n",
              "Dióxido de Carbono(Venoso)      5.0\n",
              "Íon Sódio                     115.0\n",
              "Íon Potássio                    1.5\n",
              "Íon Cálcio                      0.5\n",
              "Íon Cloreto                    70.0\n",
              "Íon Bicarbonato                 8.0\n",
              "Glicose                        20.0\n",
              "Name: Limite Aproximado não Letál Mínimo em Curto Prazo, dtype: float64"
            ]
          },
          "metadata": {
            "tags": []
          },
          "execution_count": 11
        }
      ]
    },
    {
      "cell_type": "code",
      "metadata": {
        "id": "tmgDEsEfQ6rM",
        "outputId": "99c9db04-7dae-406a-f249-6292469d7543",
        "colab": {
          "base_uri": "https://localhost:8080/",
          "height": 170
        }
      },
      "source": [
        "# análise matemática: média, mediana, desvio padrão  \n",
        "lamin.describe()"
      ],
      "execution_count": null,
      "outputs": [
        {
          "output_type": "execute_result",
          "data": {
            "text/plain": [
              "count      8.000000\n",
              "mean      28.750000\n",
              "std       41.582964\n",
              "min        0.500000\n",
              "25%        4.125000\n",
              "50%        9.000000\n",
              "75%       32.500000\n",
              "max      115.000000\n",
              "Name: Limite Aproximado não Letál Mínimo em Curto Prazo, dtype: float64"
            ]
          },
          "metadata": {
            "tags": []
          },
          "execution_count": 111
        }
      ]
    },
    {
      "cell_type": "code",
      "metadata": {
        "id": "JW6v1pnvRETr",
        "outputId": "54a5a1f9-e75d-4a0c-987f-afd8550502b8",
        "colab": {
          "base_uri": "https://localhost:8080/",
          "height": 187
        }
      },
      "source": [
        "# Relação das substâncias com seu valor de limite Aproximado não Letál Máximo em Curto Prazo\n",
        "lamax = íons[\"Limite Aproximado não Letál Máximo em Curto Prazo\"]\n",
        "lamax.head(8)"
      ],
      "execution_count": null,
      "outputs": [
        {
          "output_type": "execute_result",
          "data": {
            "text/plain": [
              "Substâncias\n",
              "Oxigênio(Venoso)              1000.0\n",
              "Dióxido de Carbono(Venoso)      80.0\n",
              "Íon Sódio                      175.0\n",
              "Íon Potássio                     9.0\n",
              "Íon Cálcio                       2.0\n",
              "Íon Cloreto                    130.0\n",
              "Íon Bicarbonato                 45.0\n",
              "Glicose                       1500.0\n",
              "Name: Limite Aproximado não Letál Máximo em Curto Prazo, dtype: float64"
            ]
          },
          "metadata": {
            "tags": []
          },
          "execution_count": 13
        }
      ]
    },
    {
      "cell_type": "code",
      "metadata": {
        "id": "B7nB83PHRPs6",
        "outputId": "4e7b600a-9efb-4cfb-e498-1e7972e9e799",
        "colab": {
          "base_uri": "https://localhost:8080/",
          "height": 170
        }
      },
      "source": [
        "# análise matemática: média, mediana, desvio padrão, valores mínimos e máximos   \n",
        "lamax.describe()"
      ],
      "execution_count": null,
      "outputs": [
        {
          "output_type": "execute_result",
          "data": {
            "text/plain": [
              "count       8.000000\n",
              "mean      367.625000\n",
              "std       563.769187\n",
              "min         2.000000\n",
              "25%        36.000000\n",
              "50%       105.000000\n",
              "75%       381.250000\n",
              "max      1500.000000\n",
              "Name: Limite Aproximado não Letál Máximo em Curto Prazo, dtype: float64"
            ]
          },
          "metadata": {
            "tags": []
          },
          "execution_count": 114
        }
      ]
    },
    {
      "cell_type": "markdown",
      "metadata": {
        "id": "66ay3leTR0dR"
      },
      "source": [
        "Acima temos algumas das principais substâncias do corpo com dados indicando a quantidade normal dentro do organismo, quantidade mínima necessária em um curto período de tempo, quantidade máxima necessária em um curto período de tempo e foi adicionado também algumas contas como média aritimétrica da quantidade dessas substâncias, desvío padrão, mediana, a fins de curiosidade.\n",
        "É importante entender bem esses valores, já que é atraves da variação deles que podemos exercer várias funções no nosso corpo. Falando especifimanete dos íons, esses são de extrema importancia do ponto de vista elétrico do nosso corpo, ou seja, os potenciais de ação. Quando falamos de contração muscular estamos falando da passagem de um potencial de ação que estimula a entrada e saída de íons gerando uma resposta. No caso dos músculos, primeiro, temos que entender que eles são divididos em três tipos, Músculos esqueléticos, Músculos lisos e Músculos cardíacos.\n",
        "# Musculatura esquelética \n",
        " Na musculatura esquelética temos a presença das miofibrilas, sendo elas compostas por filamentos de miosina e filamentos de actina que são responsáveis pela contração muscular, a contração, nada mais é do que o deslizamento dos filamentos de actina sobre os filamentos de miosina. Mas para que isso ocorra, primeiro temos que excitar as fribas músculares, fazemos isso através de potenciais de ação que cursam do nervo motor até as fibras, lá esse nervo libera uma substância neurotrasmissora do sistema nervoso autônomo, estimulação simpática, chamada acetilcolina, essa acetilcolina estimula a abertura dos canáis de cátions que vão permitir a entrada de íons sódio na célula por difusão, causando assim uma despolarização. Grande parte desse potencial de ação flui pelo centro da fibra muscular, estimulando o retículo sarcosplasmático(retículo extramembranar responsável por armazenar e liberar cálcio às celulas músculares) à liberar íons de cálcio para o meio intracelular. Esses íons estimulam a força de atração dos filamentos de actina e miosina fazendo com que ocorra o deslizamento de um sobre o outro gerando assim, a contração. Após alguns segundos, é das bombas de cálcio enviar esses íons de volta ao retículo sarcoplasmático, fazenda com que a força de atração diminua, os filamentos voltem aos seus respectivos lugares e a contração cesse, até que outro estímulo seja enviado e o processo começe tudo de novo. \n",
        "\n",
        "<img src=\"https://static.alunosonline.uol.com.br/conteudo/images/sarcomero.jpg\">"
      ]
    },
    {
      "cell_type": "markdown",
      "metadata": {
        "id": "QaJusa9tgP4j"
      },
      "source": [
        "# Musculatura lisa\n",
        "O mecanismo de contração múscular da musculatura lisa é o mesmo da músculatura esquelética, portanto, estímulo por diferença de potencial, entrada de íons de cálcio, deslizamento de filamentos, também são características desses músculos. A grande diferença está, na verdade, na composição física dessa musculatura. Pelo nome, já vemos a primeira diferença, a musculatura lisa não contém estrias, portanto, esses músculos não costumam sofrer hipertrofia e suas fibras são bem menores em relação aos músculos esqueléticos. Além das fibras serem bem menores, a contração é mais lenta, podendo durar horas ou até dias. Exitem dois tipos de músculos lisos, os multiunitários, que se comportam da mesma maneira que os músculos esqueléticos, e os músculos lisos unitários, esses que também são chamados de sinciciais. os músculos lisos sinciciais tem a peculiaridade de contrair várias fibras de uma só vez, como se fossem uma unidade apenas. Suas fibras estão aderidas umas nas outras em multiplos pontos, de forma que a força gerada em uma das fibras, transcende para as outas e, além disso, tem o que chamamos de junções comunicantes que proporcionam a passagem de íons livremente entre as fibras, fazendo com que o potencial de ação passe pelas células fazendo com que sejam estímuladas e contraídas ao mesmo tempo.\n",
        "<img src=\"https://image.slidesharecdn.com/fisiologiahumana4-tecidomuscular-140304202313-phpapp02/95/fisiologia-humana-4-tecido-muscular-51-638.jpg?cb=1393965164\">"
      ]
    },
    {
      "cell_type": "markdown",
      "metadata": {
        "id": "gcoO1fsLYOtC"
      },
      "source": [
        "## Musculatura Cardíaca \n",
        "O nosso coração contém tres tipos muculares, sendo eles o músculo atrial, o músculo ventricular e as fibras excitatórias e condutoras. Os dois primeiros se comportam como músculos esqueléticos sendo, inclusive, um tipo de músculatura estriada, já as fibras, essas se contrem de modo mais fraco por conterem poucas fibras contráteis, mas apresentam descargas elétricas automáticas que controlam os batimentos cardíacos. \n",
        "Duas caractériscas da musculatura cardíaca fazem dela um tipo peculiar de musculos. Essa músculatura é um tipo de sincício, como vimos nos músculos lisos, e apresentam um platô de contração. Portanto, conclui-se que esse grupamentos múscular pode contrair várias fibras ao mesmo instante e mantê-las contraídas por um período maior de tempo. \n",
        "Diferentemente do grupamento estriado equelético, o potencial de ação nos músculos cardíacos são originados pela abertura de dois canais, sendo eles, os canais rápidos de sódio(os mesmos do músculo estriado esquelético) eos canais de cálcio do tipo L que também são conhecidos como canais de cálcio-sódio.\n",
        "A contração começa com a despolarização da membrana com a abertura dos canais de sódio. Quando esses canais se fecham ocorre uma pequena repolarização que aumenta a permeabilidade dos íons cálcio e diminui a permeabilidade de íons potássio, gerando um platô. A entrada de íons cálcio na celula permite uma contração mais duradoura, por isso a presença do platô. Ao fim da permeabilidade de cálcio, os seus canais se fecham, permitindo a abertura dos canáis de potássio fazendo com que ocorra a polarização e o potencial da membrana volte ao repouso até que outro estímulo seja feito, fazendo com que todo processo volte a acontecer.\n",
        "- \n",
        "O gráfico a seguir nos mostra o comportamento dessa contração."
      ]
    },
    {
      "cell_type": "code",
      "metadata": {
        "id": "88UVZdpwOCiJ",
        "outputId": "dfd4e571-5937-41fc-df5b-9983a716f04e",
        "colab": {
          "base_uri": "https://localhost:8080/",
          "height": 312
        }
      },
      "source": [
        "import matplotlib.pyplot as plt\n",
        "x = [0, 50, 100, 150, 300, 400]\n",
        "y = [-90.0, 20.0, 10.0, 10.0, -90.0, -90.0]\n",
        "plt.plot(x, y)\n",
        "plt.title(\"Fases do Potencial de ação do miocardio\")\n",
        "plt.ylabel(\"Potencial de membrana (milivolts)\")\n",
        "plt.xlabel(\"Tempo(ms)\")"
      ],
      "execution_count": null,
      "outputs": [
        {
          "output_type": "execute_result",
          "data": {
            "text/plain": [
              "Text(0.5, 0, 'Tempo(ms)')"
            ]
          },
          "metadata": {
            "tags": []
          },
          "execution_count": 15
        },
        {
          "output_type": "display_data",
          "data": {
            "image/png": "[encoded data removed]",
            "text/plain": [
              "<Figure size 432x288 with 1 Axes>"
            ]
          },
          "metadata": {
            "tags": [],
            "needs_background": "light"
          }
        }
      ]
    },
    {
      "cell_type": "markdown",
      "metadata": {
        "id": "TmZTiJzjm8A_"
      },
      "source": [
        "# Referências\n",
        "Imagem 1:\n",
        "disponível em: <http://www.angomed.com/wp-content/uploads/2015/05/canais-ionicos.jpg>. Acesso em:24set.2020\n",
        "\n",
        "BRASIL ESCOLA.**Contração em Músculos Esqueléticos**.\n",
        "disponível em: <https://brasilescola.uol.com.br/biologia/contracao-musculos-esqueleticos.htm>.Acesso em:28set.2020\n",
        "\n",
        "\n",
        "SANTANA, Herbet.**Fisiologia Humana 4- Tecido Múscular**.Slideshare: Educação,2014.disponível em: <https://pt.slideshare.net/herbertsantana22/fisiologiahumana4-tecidomuscular>.Acesso em:02out.2020\n",
        "\n",
        "GUYTON, Arthur; HALL, John. **GUYTON & HALL: Trato de Fisiologia Médica**.13ºEdição.ELSEVIER, 2017"
      ]
    },
    {
      "cell_type": "code",
      "metadata": {
        "id": "OVEQpdLLXPIP"
      },
      "source": [],
      "execution_count": null,
      "outputs": []
    }
  ]
}